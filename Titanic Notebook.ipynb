{
 "cells": [
  {
   "cell_type": "code",
   "execution_count": 48,
   "metadata": {},
   "outputs": [
    {
     "data": {
      "text/html": [
       "<div>\n",
       "<style scoped>\n",
       "    .dataframe tbody tr th:only-of-type {\n",
       "        vertical-align: middle;\n",
       "    }\n",
       "\n",
       "    .dataframe tbody tr th {\n",
       "        vertical-align: top;\n",
       "    }\n",
       "\n",
       "    .dataframe thead th {\n",
       "        text-align: right;\n",
       "    }\n",
       "</style>\n",
       "<table border=\"1\" class=\"dataframe\">\n",
       "  <thead>\n",
       "    <tr style=\"text-align: right;\">\n",
       "      <th></th>\n",
       "      <th>PassengerId</th>\n",
       "      <th>Survived</th>\n",
       "      <th>Pclass</th>\n",
       "      <th>Name</th>\n",
       "      <th>Sex</th>\n",
       "      <th>Age</th>\n",
       "      <th>SibSp</th>\n",
       "      <th>Parch</th>\n",
       "      <th>Ticket</th>\n",
       "      <th>Fare</th>\n",
       "      <th>Cabin</th>\n",
       "      <th>Embarked</th>\n",
       "    </tr>\n",
       "  </thead>\n",
       "  <tbody>\n",
       "    <tr>\n",
       "      <th>0</th>\n",
       "      <td>1</td>\n",
       "      <td>0</td>\n",
       "      <td>3</td>\n",
       "      <td>Braund, Mr. Owen Harris</td>\n",
       "      <td>male</td>\n",
       "      <td>22.0</td>\n",
       "      <td>1</td>\n",
       "      <td>0</td>\n",
       "      <td>A/5 21171</td>\n",
       "      <td>7.2500</td>\n",
       "      <td>NaN</td>\n",
       "      <td>S</td>\n",
       "    </tr>\n",
       "    <tr>\n",
       "      <th>1</th>\n",
       "      <td>2</td>\n",
       "      <td>1</td>\n",
       "      <td>1</td>\n",
       "      <td>Cumings, Mrs. John Bradley (Florence Briggs Th...</td>\n",
       "      <td>female</td>\n",
       "      <td>38.0</td>\n",
       "      <td>1</td>\n",
       "      <td>0</td>\n",
       "      <td>PC 17599</td>\n",
       "      <td>71.2833</td>\n",
       "      <td>C85</td>\n",
       "      <td>C</td>\n",
       "    </tr>\n",
       "    <tr>\n",
       "      <th>2</th>\n",
       "      <td>3</td>\n",
       "      <td>1</td>\n",
       "      <td>3</td>\n",
       "      <td>Heikkinen, Miss. Laina</td>\n",
       "      <td>female</td>\n",
       "      <td>26.0</td>\n",
       "      <td>0</td>\n",
       "      <td>0</td>\n",
       "      <td>STON/O2. 3101282</td>\n",
       "      <td>7.9250</td>\n",
       "      <td>NaN</td>\n",
       "      <td>S</td>\n",
       "    </tr>\n",
       "    <tr>\n",
       "      <th>3</th>\n",
       "      <td>4</td>\n",
       "      <td>1</td>\n",
       "      <td>1</td>\n",
       "      <td>Futrelle, Mrs. Jacques Heath (Lily May Peel)</td>\n",
       "      <td>female</td>\n",
       "      <td>35.0</td>\n",
       "      <td>1</td>\n",
       "      <td>0</td>\n",
       "      <td>113803</td>\n",
       "      <td>53.1000</td>\n",
       "      <td>C123</td>\n",
       "      <td>S</td>\n",
       "    </tr>\n",
       "    <tr>\n",
       "      <th>4</th>\n",
       "      <td>5</td>\n",
       "      <td>0</td>\n",
       "      <td>3</td>\n",
       "      <td>Allen, Mr. William Henry</td>\n",
       "      <td>male</td>\n",
       "      <td>35.0</td>\n",
       "      <td>0</td>\n",
       "      <td>0</td>\n",
       "      <td>373450</td>\n",
       "      <td>8.0500</td>\n",
       "      <td>NaN</td>\n",
       "      <td>S</td>\n",
       "    </tr>\n",
       "  </tbody>\n",
       "</table>\n",
       "</div>"
      ],
      "text/plain": [
       "   PassengerId  Survived  Pclass  \\\n",
       "0            1         0       3   \n",
       "1            2         1       1   \n",
       "2            3         1       3   \n",
       "3            4         1       1   \n",
       "4            5         0       3   \n",
       "\n",
       "                                                Name     Sex   Age  SibSp  \\\n",
       "0                            Braund, Mr. Owen Harris    male  22.0      1   \n",
       "1  Cumings, Mrs. John Bradley (Florence Briggs Th...  female  38.0      1   \n",
       "2                             Heikkinen, Miss. Laina  female  26.0      0   \n",
       "3       Futrelle, Mrs. Jacques Heath (Lily May Peel)  female  35.0      1   \n",
       "4                           Allen, Mr. William Henry    male  35.0      0   \n",
       "\n",
       "   Parch            Ticket     Fare Cabin Embarked  \n",
       "0      0         A/5 21171   7.2500   NaN        S  \n",
       "1      0          PC 17599  71.2833   C85        C  \n",
       "2      0  STON/O2. 3101282   7.9250   NaN        S  \n",
       "3      0            113803  53.1000  C123        S  \n",
       "4      0            373450   8.0500   NaN        S  "
      ]
     },
     "execution_count": 48,
     "metadata": {},
     "output_type": "execute_result"
    }
   ],
   "source": [
    "import numpy as np\n",
    "import pandas as pd\n",
    "from sklearn.preprocessing import StandardScaler\n",
    "from sklearn.preprocessing import MinMaxScaler\n",
    "from sklearn.preprocessing import Imputer\n",
    "from sklearn.base import BaseEstimator, TransformerMixin\n",
    "from sklearn.pipeline import Pipeline\n",
    "from sklearn.pipeline import FeatureUnion\n",
    "import matplotlib.pyplot as ply\n",
    "import seaborn as sns\n",
    "%matplotlib inline\n",
    "\n",
    "training_set = pd.read_csv(\"train.csv\")\n",
    "test_set = pd.read_csv(\"test.csv\")\n",
    "training_set.head()"
   ]
  },
  {
   "cell_type": "code",
   "execution_count": 49,
   "metadata": {},
   "outputs": [],
   "source": [
    "# Store labels\n",
    "train_titanic_labels = training_set['Survived']"
   ]
  },
  {
   "cell_type": "code",
   "execution_count": 50,
   "metadata": {},
   "outputs": [],
   "source": [
    "# Explore the titles generated\n",
    "def them_titles(datain):\n",
    "    names = datain['Name'].copy().str.strip().str.split(',')\n",
    "    titles = names.str.get(1).str.strip().str.split('.').str.get(0)\n",
    "    return titles"
   ]
  },
  {
   "cell_type": "code",
   "execution_count": 51,
   "metadata": {},
   "outputs": [],
   "source": [
    "# This class will create a dataset containing all the features, and generate new ones. \n",
    "class OptimusPrime(BaseEstimator, TransformerMixin):\n",
    "    def __init__(self):\n",
    "        self = self\n",
    "    def fit(self, X, y=None):\n",
    "        return self\n",
    "    def transform(self, X, y=None):\n",
    "        # Generate the titles and merge with.\n",
    "        X['Title'] = them_titles(X)\n",
    "    \n",
    "        # Flag nobility. I don't think 'Mlle' denotes mobility, but I'll place them here.\n",
    "        conditions = ['Dona', 'Mme','Mlle', 'Lady','the Countess','Don','Jonkheer']\n",
    "        X['Noble'] = np.isin(X['Title'],conditions)\n",
    "        X['Noble'] = np.where(X['Noble']==True,1,0)\n",
    "\n",
    "        # Find all the reverends. All of them were male, and they all died.\n",
    "        X['Reverend'] = np.where(X['Title'] == 'Rev',1,0)\n",
    "\n",
    "        # Identify all military personel.\n",
    "        conditions = ['Col','Major']\n",
    "        X['Military'] = np.isin(X['Title'], conditions)\n",
    "        X['Military'] = np.where(X['Military']==True,1,0)\n",
    "\n",
    "        # Flag all the doctors.\n",
    "        X['Doctor'] = np.where(X['Title'] == 'Dr',1,0)\n",
    "\n",
    "        # I think this is noise. I'll probably delete it.\n",
    "        X['Captain'] = np.where(X['Title'] == 'Capt',1,0)\n",
    "    \n",
    "        # Parse the tickets.\n",
    "        alpha_prefix = X['Ticket'].str.strip().str.split(' ').str.get(0)\n",
    "        alpha_num = X['Ticket'].str.strip().str.split(' ').str.get(1)\n",
    "        #X['Alpha_ticket'] = np.where(X['Ticket'].str.lower().str.isdigit()==False,X['Ticket'],np.NaN)\n",
    "        #X['Alpha_ticket_prefix'] = np.where(X['Ticket'].str.lower().str.isdigit()==False,alpha_prefix,np.NaN)\n",
    "        #X['Alpha_ticket_num'] = np.where(X['Ticket'].str.lower().str.isdigit()==False,alpha_num,np.NaN)\n",
    "        #X['Numeric_ticket'] = np.where(X['Ticket'].str.lower().str.isdigit()==True,X['Ticket'],np.NaN)\n",
    "        X['Ticket_number_length'] = X['Ticket'].str.extract('(\\d+$)')\n",
    "        X['Ticket_number_length'] = np.where(X['Ticket_number_length'].isnull() == True, '0',X['Ticket_number_length'])\n",
    "        X['Ticket_number_length'] = X['Ticket_number_length'].str.len().astype(str)\n",
    "        return X"
   ]
  },
  {
   "cell_type": "code",
   "execution_count": 52,
   "metadata": {},
   "outputs": [],
   "source": [
    "# Create the full training set with generated features.\n",
    "autobots = OptimusPrime()\n",
    "training_set_prelim = autobots.transform(training_set)"
   ]
  },
  {
   "cell_type": "code",
   "execution_count": 53,
   "metadata": {},
   "outputs": [],
   "source": [
    "# Get the categorical data ready for encoding.\n",
    "processing = training_set_prelim.copy()\n",
    "\n",
    "drop_var = ['Name', 'Ticket','Cabin','Embarked','Title','Captain']\n",
    "processing = processing.drop(drop_var, axis=1)\n",
    "\n",
    "category_features = processing.select_dtypes(include='object')\n",
    "\n",
    "numeric_features = processing.select_dtypes(exclude='object')"
   ]
  },
  {
   "cell_type": "code",
   "execution_count": 54,
   "metadata": {},
   "outputs": [],
   "source": [
    "# Turn the pandas dataframe into numpy arrays. You have to choose which features are converted.\n",
    "class DataFrameSelector(BaseEstimator,TransformerMixin):\n",
    "    def __init__(self, attribute_names):\n",
    "        self.attribute_names = attribute_names\n",
    "    def fit(self, X,y=None):\n",
    "        return self\n",
    "    def transform(self,X):\n",
    "        return X[self.attribute_names].values"
   ]
  },
  {
   "cell_type": "code",
   "execution_count": 55,
   "metadata": {},
   "outputs": [],
   "source": [
    "# Create a class to one-hot encode the categorical features using pandas.\n",
    "class OneHotEncoder(BaseEstimator, TransformerMixin):\n",
    "    def __init__(self, attribute_names):\n",
    "        self.attribute_names = attribute_names\n",
    "    def fit(self, X, y=None):\n",
    "        return self\n",
    "    def transform(self, X):\n",
    "        X = pd.get_dummies(data=X, columns=self.attribute_names)\n",
    "        return X"
   ]
  },
  {
   "cell_type": "code",
   "execution_count": 56,
   "metadata": {},
   "outputs": [],
   "source": [
    "# Features to encode.\n",
    "cat_attribs = ['Ticket_number_length','Pclass','Sex']"
   ]
  },
  {
   "cell_type": "code",
   "execution_count": 57,
   "metadata": {},
   "outputs": [],
   "source": [
    "# Numeric features to convert into numpy arrays.\n",
    "num_attribs = ['Age','Fare','SibSp','Parch']\n",
    "\n",
    "# Categorical features to convert to numpy arrays.\n",
    "cat_attribs_sel = ['Noble','Reverend','Military','Doctor','Ticket_number_length_1','Ticket_number_length_3',\n",
    "                   'Ticket_number_length_4','Ticket_number_length_5','Ticket_number_length_6','Ticket_number_length_7',\n",
    "                   'Pclass_1','Pclass_2','Pclass_3','Sex_male','Sex_female']"
   ]
  },
  {
   "cell_type": "code",
   "execution_count": 58,
   "metadata": {},
   "outputs": [
    {
     "name": "stderr",
     "output_type": "stream",
     "text": [
      "/anaconda3/envs/Kaggle/lib/python3.6/site-packages/sklearn/utils/deprecation.py:58: DeprecationWarning: Class Imputer is deprecated; Imputer was deprecated in version 0.20 and will be removed in 0.22. Import impute.SimpleImputer from sklearn instead.\n",
      "  warnings.warn(msg, category=DeprecationWarning)\n"
     ]
    }
   ],
   "source": [
    "num_pipeline = Pipeline([\n",
    "    ('selector', DataFrameSelector(num_attribs)),\n",
    "    ('imputer', Imputer(strategy='median')),\n",
    "    ('minmax_scaler', MinMaxScaler()),\n",
    "])\n",
    "\n",
    "cat_pipeline = Pipeline([\n",
    "    ('autobots', OptimusPrime()),\n",
    "    ('cat_encoder', OneHotEncoder(cat_attribs)),\n",
    "    ('selector', DataFrameSelector(cat_attribs_sel)),\n",
    "])"
   ]
  },
  {
   "cell_type": "code",
   "execution_count": 59,
   "metadata": {},
   "outputs": [],
   "source": [
    "# Create final training set\n",
    "full_pipeline = FeatureUnion([\n",
    "    ('num_pipe', num_pipeline),\n",
    "    ('cat_pipe', cat_pipeline),\n",
    "])\n",
    "\n",
    "titanic_tr_cleaned= full_pipeline.fit_transform(training_set.copy())"
   ]
  },
  {
   "cell_type": "code",
   "execution_count": 60,
   "metadata": {},
   "outputs": [],
   "source": [
    "test_data = full_pipeline.transform(test_set)"
   ]
  },
  {
   "cell_type": "code",
   "execution_count": 61,
   "metadata": {},
   "outputs": [],
   "source": [
    "from keras.models import Sequential\n",
    "from keras.layers import Dense, Activation, Dropout\n",
    "from keras import regularizers\n",
    "import tensorflow as tf\n",
    "\n",
    "# Config to turn on JIT compilation\n",
    "config = tf.ConfigProto()\n",
    "config.graph_options.optimizer_options.global_jit_level = tf.OptimizerOptions.ON_1\n",
    "tf.contrib.data.prefetch_to_device('device')\n",
    "\n",
    "# Build the model\n",
    "def ML_Model():\n",
    "    model = Sequential()\n",
    "    model.add(Dense(128, input_dim=19, activation='relu')) \n",
    "    model.add(Dropout(0.2))\n",
    "    model.add(Dense(128, activation='relu'))\n",
    "    model.add(Dropout(0.2))\n",
    "    model.add(Dense(128, activation='relu'))\n",
    "    model.add(Dropout(0.2))\n",
    "    model.add(Dense(32, activation='relu'))\n",
    "    model.add(Dropout(0.2))\n",
    "    model.add(Dense(16, activation='relu'))\n",
    "    model.add(Dropout(0.2))\n",
    "    model.add(Dense(8, activation='relu'))\n",
    "    model.add(Dropout(0.2))\n",
    "    model.add(Dense(1, activation='sigmoid'))\n",
    "    model.compile(optimizer='adam',\n",
    "                  loss='binary_crossentropy',\n",
    "                  metrics = ['accuracy'])\n",
    "    return model"
   ]
  },
  {
   "cell_type": "code",
   "execution_count": 62,
   "metadata": {
    "scrolled": true
   },
   "outputs": [
    {
     "name": "stdout",
     "output_type": "stream",
     "text": [
      "Results: 81.48% (2.65%)\n"
     ]
    }
   ],
   "source": [
    "from keras.wrappers.scikit_learn import KerasClassifier\n",
    "from sklearn.model_selection import cross_val_score\n",
    "from sklearn.model_selection import StratifiedKFold\n",
    "\n",
    "# Fix random seed for reproducibility\n",
    "seed = 7\n",
    "np.random.seed(seed)\n",
    "\n",
    "# Builds/compiles the NN model, but does NOT fit \n",
    "nn_estimator = KerasClassifier(build_fn=ML_Model, epochs=200, batch_size=128, verbose=0)\n",
    "\n",
    "# Fit the NN model you just built using the KerasClassifier API\n",
    "nn_estimator.fit(titanic_tr_cleaned, train_titanic_labels)\n",
    "\n",
    "# Generate stratified cv sets\n",
    "kfold = StratifiedKFold(n_splits=3, shuffle=True, random_state=seed)\n",
    "\n",
    "# Cross validate and score the model against the cv set\n",
    "results = cross_val_score(nn_estimator, titanic_tr_cleaned, train_titanic_labels, cv=kfold)\n",
    "\n",
    "print(\"Results: %.2f%% (%.2f%%)\" % (results.mean()*100, results.std()*100))"
   ]
  },
  {
   "cell_type": "code",
   "execution_count": 21,
   "metadata": {},
   "outputs": [],
   "source": [
    "# Create a function that will create dataframe for submission\n",
    "# Note: This function assumes that you will be using the Scikit prediction method\n",
    "def kaggle_submission(estimator,datain):\n",
    "    predictions = estimator.predict(datain)\n",
    "    predictions = pd.DataFrame(predictions, columns=['Survived'])\n",
    "    submission = pd.DataFrame(test_set['PassengerId'])\n",
    "    submission['Survived'] = predictions['Survived']\n",
    "    return submission"
   ]
  },
  {
   "cell_type": "code",
   "execution_count": 22,
   "metadata": {},
   "outputs": [
    {
     "data": {
      "text/html": [
       "<div>\n",
       "<style scoped>\n",
       "    .dataframe tbody tr th:only-of-type {\n",
       "        vertical-align: middle;\n",
       "    }\n",
       "\n",
       "    .dataframe tbody tr th {\n",
       "        vertical-align: top;\n",
       "    }\n",
       "\n",
       "    .dataframe thead th {\n",
       "        text-align: right;\n",
       "    }\n",
       "</style>\n",
       "<table border=\"1\" class=\"dataframe\">\n",
       "  <thead>\n",
       "    <tr style=\"text-align: right;\">\n",
       "      <th></th>\n",
       "      <th>PassengerId</th>\n",
       "      <th>Survived</th>\n",
       "    </tr>\n",
       "  </thead>\n",
       "  <tbody>\n",
       "    <tr>\n",
       "      <th>0</th>\n",
       "      <td>892</td>\n",
       "      <td>0</td>\n",
       "    </tr>\n",
       "    <tr>\n",
       "      <th>1</th>\n",
       "      <td>893</td>\n",
       "      <td>1</td>\n",
       "    </tr>\n",
       "    <tr>\n",
       "      <th>2</th>\n",
       "      <td>894</td>\n",
       "      <td>0</td>\n",
       "    </tr>\n",
       "    <tr>\n",
       "      <th>3</th>\n",
       "      <td>895</td>\n",
       "      <td>0</td>\n",
       "    </tr>\n",
       "    <tr>\n",
       "      <th>4</th>\n",
       "      <td>896</td>\n",
       "      <td>1</td>\n",
       "    </tr>\n",
       "  </tbody>\n",
       "</table>\n",
       "</div>"
      ],
      "text/plain": [
       "   PassengerId  Survived\n",
       "0          892         0\n",
       "1          893         1\n",
       "2          894         0\n",
       "3          895         0\n",
       "4          896         1"
      ]
     },
     "execution_count": 22,
     "metadata": {},
     "output_type": "execute_result"
    }
   ],
   "source": [
    "nn_predictions = kaggle_submission(nn_estimator, test_data)\n",
    "nn_predictions.head()"
   ]
  },
  {
   "cell_type": "code",
   "execution_count": 23,
   "metadata": {},
   "outputs": [],
   "source": [
    "nn_predictions.to_csv('submition.csv', index=False)"
   ]
  },
  {
   "cell_type": "code",
   "execution_count": 27,
   "metadata": {},
   "outputs": [
    {
     "name": "stdout",
     "output_type": "stream",
     "text": [
      "Results: 79.01% (1.36%)\n"
     ]
    },
    {
     "name": "stderr",
     "output_type": "stream",
     "text": [
      "/anaconda3/envs/Kaggle/lib/python3.6/site-packages/sklearn/svm/base.py:196: FutureWarning: The default value of gamma will change from 'auto' to 'scale' in version 0.22 to account better for unscaled features. Set gamma explicitly to 'auto' or 'scale' to avoid this warning.\n",
      "  \"avoid this warning.\", FutureWarning)\n",
      "/anaconda3/envs/Kaggle/lib/python3.6/site-packages/sklearn/model_selection/_split.py:2053: FutureWarning: You should specify a value for 'cv' instead of relying on the default value. The default value will change from 3 to 5 in version 0.22.\n",
      "  warnings.warn(CV_WARNING, FutureWarning)\n",
      "/anaconda3/envs/Kaggle/lib/python3.6/site-packages/sklearn/svm/base.py:196: FutureWarning: The default value of gamma will change from 'auto' to 'scale' in version 0.22 to account better for unscaled features. Set gamma explicitly to 'auto' or 'scale' to avoid this warning.\n",
      "  \"avoid this warning.\", FutureWarning)\n",
      "/anaconda3/envs/Kaggle/lib/python3.6/site-packages/sklearn/svm/base.py:196: FutureWarning: The default value of gamma will change from 'auto' to 'scale' in version 0.22 to account better for unscaled features. Set gamma explicitly to 'auto' or 'scale' to avoid this warning.\n",
      "  \"avoid this warning.\", FutureWarning)\n",
      "/anaconda3/envs/Kaggle/lib/python3.6/site-packages/sklearn/svm/base.py:196: FutureWarning: The default value of gamma will change from 'auto' to 'scale' in version 0.22 to account better for unscaled features. Set gamma explicitly to 'auto' or 'scale' to avoid this warning.\n",
      "  \"avoid this warning.\", FutureWarning)\n"
     ]
    }
   ],
   "source": [
    "from sklearn.svm import SVC\n",
    "\n",
    "clf = SVC(C=3, kernel='rbf')\n",
    "clf.fit(titanic_tr_cleaned, train_titanic_labels)\n",
    "results = cross_val_score(clf, titanic_tr_cleaned, train_titanic_labels)\n",
    "score = clf.score(titanic_tr_cleaned, train_titanic_labels)\n",
    "print(\"Results: %.2f%% (%.2f%%)\" % (results.mean()*100, results.std()*100))"
   ]
  },
  {
   "cell_type": "code",
   "execution_count": 18,
   "metadata": {},
   "outputs": [],
   "source": [
    "svm_predictions = kaggle_submission(clf, titanic_test)\n",
    "svm_predictions.to_csv('submition.csv', index=False)"
   ]
  },
  {
   "cell_type": "code",
   "execution_count": 28,
   "metadata": {},
   "outputs": [
    {
     "name": "stdout",
     "output_type": "stream",
     "text": [
      "Results: 81.03% (1.93%)\n"
     ]
    }
   ],
   "source": [
    "from sklearn.ensemble import RandomForestClassifier\n",
    "\n",
    "rf_clf = RandomForestClassifier(n_estimators=50, n_jobs=-1)\n",
    "\n",
    "rf_clf.fit(titanic_tr_cleaned, train_titanic_labels)\n",
    "\n",
    "# Generate stratified cv sets\n",
    "kfold = StratifiedKFold(n_splits=3, shuffle=True, random_state=seed)\n",
    "\n",
    "# Cross validate and score the model against the cv set\n",
    "results = cross_val_score(rf_clf, titanic_tr_cleaned, train_titanic_labels, cv=kfold)\n",
    "\n",
    "print(\"Results: %.2f%% (%.2f%%)\" % (results.mean()*100, results.std()*100))"
   ]
  },
  {
   "cell_type": "code",
   "execution_count": 641,
   "metadata": {},
   "outputs": [
    {
     "name": "stdout",
     "output_type": "stream",
     "text": [
      "<class 'pandas.core.frame.DataFrame'>\n",
      "RangeIndex: 891 entries, 0 to 890\n",
      "Data columns (total 26 columns):\n",
      "Age                            891 non-null float64\n",
      "SibSp                          891 non-null float64\n",
      "Parch                          891 non-null float64\n",
      "Fare                           891 non-null float64\n",
      "Noble                          891 non-null float64\n",
      "Reverend                       891 non-null float64\n",
      "Military                       891 non-null float64\n",
      "Doctor                         891 non-null float64\n",
      "Pclass_1                       891 non-null int32\n",
      "Pclass_2                       891 non-null int32\n",
      "Pclass_3                       891 non-null int32\n",
      "FamilySize                     891 non-null float64\n",
      "Ticket_alpha_num_length_1.0    891 non-null uint8\n",
      "Ticket_alpha_num_length_2.0    891 non-null uint8\n",
      "Ticket_alpha_num_length_3.0    891 non-null uint8\n",
      "Ticket_alpha_num_length_4.0    891 non-null uint8\n",
      "Ticket_alpha_num_length_5.0    891 non-null uint8\n",
      "Ticket_alpha_num_length_6.0    891 non-null uint8\n",
      "Ticket_alpha_num_length_7.0    891 non-null uint8\n",
      "Ticket_num_length_3.0          891 non-null uint8\n",
      "Ticket_num_length_4.0          891 non-null uint8\n",
      "Ticket_num_length_5.0          891 non-null uint8\n",
      "Ticket_num_length_6.0          891 non-null uint8\n",
      "Ticket_num_length_7.0          891 non-null uint8\n",
      "E_Deck                         891 non-null int32\n",
      "Sex_female                     891 non-null uint8\n",
      "dtypes: float64(9), int32(4), uint8(13)\n",
      "memory usage: 88.0 KB\n"
     ]
    }
   ],
   "source": [
    "titanic_tr_cleaned.info()"
   ]
  },
  {
   "cell_type": "code",
   "execution_count": 29,
   "metadata": {},
   "outputs": [
    {
     "data": {
      "text/plain": [
       "array([0.23667004, 0.23662801, 0.04724375, 0.03887668, 0.00117939,\n",
       "       0.00093096, 0.00357035, 0.00173428, 0.00281199, 0.00500092,\n",
       "       0.01286642, 0.02222884, 0.01161115, 0.00523915, 0.02288152,\n",
       "       0.0133678 , 0.04943343, 0.17344348, 0.11428183])"
      ]
     },
     "execution_count": 29,
     "metadata": {},
     "output_type": "execute_result"
    }
   ],
   "source": [
    "rf_clf.feature_importances_"
   ]
  },
  {
   "cell_type": "code",
   "execution_count": 33,
   "metadata": {},
   "outputs": [
    {
     "data": {
      "text/html": [
       "<div>\n",
       "<style scoped>\n",
       "    .dataframe tbody tr th:only-of-type {\n",
       "        vertical-align: middle;\n",
       "    }\n",
       "\n",
       "    .dataframe tbody tr th {\n",
       "        vertical-align: top;\n",
       "    }\n",
       "\n",
       "    .dataframe thead th {\n",
       "        text-align: right;\n",
       "    }\n",
       "</style>\n",
       "<table border=\"1\" class=\"dataframe\">\n",
       "  <thead>\n",
       "    <tr style=\"text-align: right;\">\n",
       "      <th></th>\n",
       "      <th>PassengerId</th>\n",
       "      <th>Survived</th>\n",
       "    </tr>\n",
       "  </thead>\n",
       "  <tbody>\n",
       "    <tr>\n",
       "      <th>0</th>\n",
       "      <td>892</td>\n",
       "      <td>0</td>\n",
       "    </tr>\n",
       "    <tr>\n",
       "      <th>1</th>\n",
       "      <td>893</td>\n",
       "      <td>0</td>\n",
       "    </tr>\n",
       "    <tr>\n",
       "      <th>2</th>\n",
       "      <td>894</td>\n",
       "      <td>0</td>\n",
       "    </tr>\n",
       "    <tr>\n",
       "      <th>3</th>\n",
       "      <td>895</td>\n",
       "      <td>1</td>\n",
       "    </tr>\n",
       "    <tr>\n",
       "      <th>4</th>\n",
       "      <td>896</td>\n",
       "      <td>0</td>\n",
       "    </tr>\n",
       "  </tbody>\n",
       "</table>\n",
       "</div>"
      ],
      "text/plain": [
       "   PassengerId  Survived\n",
       "0          892         0\n",
       "1          893         0\n",
       "2          894         0\n",
       "3          895         1\n",
       "4          896         0"
      ]
     },
     "execution_count": 33,
     "metadata": {},
     "output_type": "execute_result"
    }
   ],
   "source": [
    "rf_predictions = kaggle_submission(rf_clf, test_data)\n",
    "rf_predictions.head()"
   ]
  },
  {
   "cell_type": "code",
   "execution_count": 23,
   "metadata": {},
   "outputs": [],
   "source": [
    "rf_predictions.to_csv('submition.csv', index=False)"
   ]
  },
  {
   "cell_type": "code",
   "execution_count": 34,
   "metadata": {},
   "outputs": [
    {
     "name": "stdout",
     "output_type": "stream",
     "text": [
      "Results: 78.79% (1.80%)\n"
     ]
    }
   ],
   "source": [
    "from sklearn.ensemble import AdaBoostClassifier\n",
    "\n",
    "ada_clf = AdaBoostClassifier(\n",
    "    RandomForestClassifier(n_estimators=250, class_weight='balanced', n_jobs=-1),n_estimators=150)\n",
    "\n",
    "ada_clf.fit(titanic_tr_cleaned, train_titanic_labels)\n",
    "\n",
    "# Generate stratified cv sets\n",
    "kfold = StratifiedKFold(n_splits=3, shuffle=True, random_state=seed)\n",
    "\n",
    "# Cross validate and score the model against the cv set\n",
    "results = cross_val_score(ada_clf, titanic_tr_cleaned, train_titanic_labels, cv=kfold)\n",
    "\n",
    "print(\"Results: {0:.2f}% ({0:.2f}%)\".format(results.mean()*100, results.std()*100))"
   ]
  },
  {
   "cell_type": "code",
   "execution_count": 72,
   "metadata": {},
   "outputs": [
    {
     "name": "stdout",
     "output_type": "stream",
     "text": [
      "Results: 81.37% (3.09%)\n"
     ]
    }
   ],
   "source": [
    "from sklearn.model_selection import GridSearchCV\n",
    "\n",
    "parameters = {\"n_estimators\": [280,285,287]}\n",
    "\n",
    "Grid_RF_clf = RandomForestClassifier(bootstrap=True, criterion=\"gini\", n_jobs=-1)\n",
    "\n",
    "Grid_RF_clf.fit(titanic_tr_cleaned, train_titanic_labels)\n",
    "\n",
    "Grid_RF_clf_CV = GridSearchCV(Grid_RF_clf, parameters,n_jobs=-1)\n",
    "Grid_RF_clf_CV.fit(titanic_tr_cleaned , train_titanic_labels)\n",
    "\n",
    "# Generate stratified cv sets\n",
    "kfold = StratifiedKFold(n_splits=3, shuffle=True, random_state=seed)\n",
    "\n",
    "# Cross validate and score the model against the cv set\n",
    "results = cross_val_score(Grid_RF_clf_CV, titanic_tr_cleaned, train_titanic_labels, cv=kfold)\n",
    "\n",
    "print(\"Results: %.2f%% (%.2f%%)\" % (results.mean()*100, results.std()*100))"
   ]
  },
  {
   "cell_type": "code",
   "execution_count": 26,
   "metadata": {},
   "outputs": [
    {
     "name": "stdout",
     "output_type": "stream",
     "text": [
      "0.7991021324354658\n"
     ]
    }
   ],
   "source": [
    "Grid_RF_clf_CV.best_estimator_\n",
    "\n",
    "print(Grid_RF_clf_CV.best_score_)"
   ]
  },
  {
   "cell_type": "code",
   "execution_count": 27,
   "metadata": {},
   "outputs": [
    {
     "data": {
      "text/plain": [
       "GridSearchCV(cv=None, error_score='raise',\n",
       "       estimator=AdaBoostClassifier(algorithm='SAMME.R',\n",
       "          base_estimator=RandomForestClassifier(bootstrap=True, class_weight='balanced_subsample',\n",
       "            criterion='gini', max_depth=None, max_features='auto',\n",
       "            max_leaf_nodes=None, min_impurity_decrease=0.0,\n",
       "            min_impurity...      verbose=0, warm_start=False),\n",
       "          learning_rate=1.0, n_estimators=50, random_state=None),\n",
       "       fit_params=None, iid=True, n_jobs=-1,\n",
       "       param_grid={'n_estimators': [30, 35, 40, 45, 55, 60, 65, 100, 250, 300], 'learning_rate': [1, 0.1, 0.01, 0.001, 0.0001]},\n",
       "       pre_dispatch='2*n_jobs', refit=True, return_train_score='warn',\n",
       "       scoring=None, verbose=0)"
      ]
     },
     "execution_count": 27,
     "metadata": {},
     "output_type": "execute_result"
    }
   ],
   "source": [
    "parameters = {\"n_estimators\": [30,35,40,45,55,60,65,100,250,300],\"learning_rate\":[1,.1,.01,.001,.0001]}\n",
    "\n",
    "ada_clf_GSCV = AdaBoostClassifier(\n",
    "    RandomForestClassifier(bootstrap=True,random_state=seed,class_weight=\"balanced_subsample\"))\n",
    "\n",
    "ada_clf_GSCV.fit(titanic_tr_cleaned , train_titanic_labels)\n",
    "\n",
    "ada_GSCV = GridSearchCV(ada_clf_GSCV, param_grid=parameters,n_jobs=-1)\n",
    "\n",
    "ada_GSCV.fit(titanic_tr_cleaned , train_titanic_labels)"
   ]
  },
  {
   "cell_type": "code",
   "execution_count": 28,
   "metadata": {},
   "outputs": [
    {
     "name": "stdout",
     "output_type": "stream",
     "text": [
      "0.8069584736251403\n"
     ]
    }
   ],
   "source": [
    "print(ada_GSCV.best_score_)"
   ]
  },
  {
   "cell_type": "code",
   "execution_count": 29,
   "metadata": {},
   "outputs": [
    {
     "data": {
      "text/html": [
       "<div>\n",
       "<style scoped>\n",
       "    .dataframe tbody tr th:only-of-type {\n",
       "        vertical-align: middle;\n",
       "    }\n",
       "\n",
       "    .dataframe tbody tr th {\n",
       "        vertical-align: top;\n",
       "    }\n",
       "\n",
       "    .dataframe thead th {\n",
       "        text-align: right;\n",
       "    }\n",
       "</style>\n",
       "<table border=\"1\" class=\"dataframe\">\n",
       "  <thead>\n",
       "    <tr style=\"text-align: right;\">\n",
       "      <th></th>\n",
       "      <th>PassengerId</th>\n",
       "      <th>Survived</th>\n",
       "    </tr>\n",
       "  </thead>\n",
       "  <tbody>\n",
       "    <tr>\n",
       "      <th>0</th>\n",
       "      <td>892</td>\n",
       "      <td>0</td>\n",
       "    </tr>\n",
       "    <tr>\n",
       "      <th>1</th>\n",
       "      <td>893</td>\n",
       "      <td>0</td>\n",
       "    </tr>\n",
       "    <tr>\n",
       "      <th>2</th>\n",
       "      <td>894</td>\n",
       "      <td>0</td>\n",
       "    </tr>\n",
       "    <tr>\n",
       "      <th>3</th>\n",
       "      <td>895</td>\n",
       "      <td>0</td>\n",
       "    </tr>\n",
       "    <tr>\n",
       "      <th>4</th>\n",
       "      <td>896</td>\n",
       "      <td>0</td>\n",
       "    </tr>\n",
       "  </tbody>\n",
       "</table>\n",
       "</div>"
      ],
      "text/plain": [
       "   PassengerId  Survived\n",
       "0          892         0\n",
       "1          893         0\n",
       "2          894         0\n",
       "3          895         0\n",
       "4          896         0"
      ]
     },
     "execution_count": 29,
     "metadata": {},
     "output_type": "execute_result"
    }
   ],
   "source": [
    "ada_GSCV_best = ada_GSCV.best_estimator_.fit(titanic_tr_cleaned, train_titanic_labels)\n",
    "ada_GSCV_best_predictions = kaggle_submission(ada_GSCV_best, titanic_test)\n",
    "ada_GSCV_best_predictions.head()"
   ]
  },
  {
   "cell_type": "code",
   "execution_count": 30,
   "metadata": {},
   "outputs": [],
   "source": [
    "ada_GSCV_best_predictions.to_csv(r'C:\\Anaconda\\envs\\tensorflow\\Kaggle\\Titanic\\output\\submission.csv', index=False)"
   ]
  },
  {
   "cell_type": "code",
   "execution_count": 31,
   "metadata": {},
   "outputs": [
    {
     "name": "stdout",
     "output_type": "stream",
     "text": [
      "Results: 83.28% (2.48%)\n"
     ]
    }
   ],
   "source": [
    "from sklearn.linear_model import LogisticRegressionCV\n",
    "\n",
    "lg_clf = LogisticRegressionCV(cv=5, random_state=42, n_jobs=-1)\n",
    "lg_clf.fit(titanic_tr_cleaned, train_titanic_labels)\n",
    "\n",
    "# Cross validate and score the model against the cv set\n",
    "results = cross_val_score(lg_clf, titanic_tr_cleaned, train_titanic_labels, cv=kfold)\n",
    "\n",
    "print(\"Results: %.2f%% (%.2f%%)\" % (results.mean()*100, results.std()*100))"
   ]
  },
  {
   "cell_type": "code",
   "execution_count": 32,
   "metadata": {},
   "outputs": [
    {
     "data": {
      "text/html": [
       "<div>\n",
       "<style scoped>\n",
       "    .dataframe tbody tr th:only-of-type {\n",
       "        vertical-align: middle;\n",
       "    }\n",
       "\n",
       "    .dataframe tbody tr th {\n",
       "        vertical-align: top;\n",
       "    }\n",
       "\n",
       "    .dataframe thead th {\n",
       "        text-align: right;\n",
       "    }\n",
       "</style>\n",
       "<table border=\"1\" class=\"dataframe\">\n",
       "  <thead>\n",
       "    <tr style=\"text-align: right;\">\n",
       "      <th></th>\n",
       "      <th>PassengerId</th>\n",
       "      <th>Survived</th>\n",
       "    </tr>\n",
       "  </thead>\n",
       "  <tbody>\n",
       "    <tr>\n",
       "      <th>0</th>\n",
       "      <td>892</td>\n",
       "      <td>0</td>\n",
       "    </tr>\n",
       "    <tr>\n",
       "      <th>1</th>\n",
       "      <td>893</td>\n",
       "      <td>0</td>\n",
       "    </tr>\n",
       "    <tr>\n",
       "      <th>2</th>\n",
       "      <td>894</td>\n",
       "      <td>0</td>\n",
       "    </tr>\n",
       "    <tr>\n",
       "      <th>3</th>\n",
       "      <td>895</td>\n",
       "      <td>0</td>\n",
       "    </tr>\n",
       "    <tr>\n",
       "      <th>4</th>\n",
       "      <td>896</td>\n",
       "      <td>1</td>\n",
       "    </tr>\n",
       "  </tbody>\n",
       "</table>\n",
       "</div>"
      ],
      "text/plain": [
       "   PassengerId  Survived\n",
       "0          892         0\n",
       "1          893         0\n",
       "2          894         0\n",
       "3          895         0\n",
       "4          896         1"
      ]
     },
     "execution_count": 32,
     "metadata": {},
     "output_type": "execute_result"
    }
   ],
   "source": [
    "lg_clf_predictions = kaggle_submission(lg_clf, titanic_test)\n",
    "lg_clf_predictions.head()"
   ]
  },
  {
   "cell_type": "code",
   "execution_count": 33,
   "metadata": {},
   "outputs": [],
   "source": [
    "lg_clf_predictions.to_csv(r'C:\\Anaconda\\envs\\tensorflow\\Kaggle\\Titanic\\output\\submission.csv', index=False)"
   ]
  }
 ],
 "metadata": {
  "kernelspec": {
   "display_name": "Python 3",
   "language": "python",
   "name": "python3"
  },
  "language_info": {
   "codemirror_mode": {
    "name": "ipython",
    "version": 3
   },
   "file_extension": ".py",
   "mimetype": "text/x-python",
   "name": "python",
   "nbconvert_exporter": "python",
   "pygments_lexer": "ipython3",
   "version": "3.7.1"
  }
 },
 "nbformat": 4,
 "nbformat_minor": 2
}
